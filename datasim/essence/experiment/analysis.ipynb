{
 "cells": [
  {
   "cell_type": "code",
   "execution_count": 30,
   "metadata": {
    "collapsed": true,
    "pycharm": {
     "name": "#%%\n"
    }
   },
   "outputs": [
    {
     "name": "stdout",
     "output_type": "stream",
     "text": [
      "Requirement already satisfied: pandas in /Users/gabrielhabryn/.conda/envs/software-architecture-playground/lib/python3.9/site-packages (1.3.4)\r\n",
      "Requirement already satisfied: matplotlib in /Users/gabrielhabryn/.conda/envs/software-architecture-playground/lib/python3.9/site-packages (3.4.3)\r\n",
      "Requirement already satisfied: python-dateutil>=2.7.3 in /Users/gabrielhabryn/.conda/envs/software-architecture-playground/lib/python3.9/site-packages (from pandas) (2.8.2)\r\n",
      "Requirement already satisfied: pytz>=2017.3 in /Users/gabrielhabryn/.conda/envs/software-architecture-playground/lib/python3.9/site-packages (from pandas) (2021.3)\r\n",
      "Requirement already satisfied: numpy>=1.17.3 in /Users/gabrielhabryn/.conda/envs/software-architecture-playground/lib/python3.9/site-packages (from pandas) (1.21.4)\r\n",
      "Requirement already satisfied: pyparsing>=2.2.1 in /Users/gabrielhabryn/.conda/envs/software-architecture-playground/lib/python3.9/site-packages (from matplotlib) (3.0.4)\r\n",
      "Requirement already satisfied: pillow>=6.2.0 in /Users/gabrielhabryn/.conda/envs/software-architecture-playground/lib/python3.9/site-packages (from matplotlib) (8.4.0)\r\n",
      "Requirement already satisfied: kiwisolver>=1.0.1 in /Users/gabrielhabryn/.conda/envs/software-architecture-playground/lib/python3.9/site-packages (from matplotlib) (1.3.2)\r\n",
      "Requirement already satisfied: cycler>=0.10 in /Users/gabrielhabryn/.conda/envs/software-architecture-playground/lib/python3.9/site-packages (from matplotlib) (0.11.0)\r\n",
      "Requirement already satisfied: six>=1.5 in /Users/gabrielhabryn/.conda/envs/software-architecture-playground/lib/python3.9/site-packages (from python-dateutil>=2.7.3->pandas) (1.16.0)\r\n"
     ]
    }
   ],
   "source": [
    "import sys\n",
    "!{sys.executable} -m pip install pandas matplotlib"
   ]
  },
  {
   "cell_type": "code",
   "execution_count": 31,
   "outputs": [],
   "source": [
    "import pandas as pd\n",
    "import numpy as np\n",
    "%matplotlib inline"
   ],
   "metadata": {
    "collapsed": false,
    "pycharm": {
     "name": "#%%\n"
    }
   }
  },
  {
   "cell_type": "code",
   "execution_count": 32,
   "outputs": [],
   "source": [
    "data = pd.read_csv(\"./../usecase/out.csv\")"
   ],
   "metadata": {
    "collapsed": false,
    "pycharm": {
     "name": "#%%\n"
    }
   }
  },
  {
   "cell_type": "code",
   "execution_count": 33,
   "outputs": [
    {
     "data": {
      "text/plain": "2322"
     },
     "execution_count": 33,
     "metadata": {},
     "output_type": "execute_result"
    }
   ],
   "source": [
    "data.columns\n",
    "len(data)"
   ],
   "metadata": {
    "collapsed": false,
    "pycharm": {
     "name": "#%%\n"
    }
   }
  },
  {
   "cell_type": "code",
   "execution_count": 34,
   "outputs": [
    {
     "data": {
      "text/plain": "  namespace                                 key           value  \\\n0   default                     experiment.name  TestCreateData   \n1   default                     experiment.name  TestCreateData   \n2   default  metric.execution_time_milliseconds               9   \n3   default  metric.execution_time_milliseconds               9   \n4   default  metric.execution_time_milliseconds               9   \n\n                label_key label_value  \n0          runtime.runner     go-test  \n1           runtime.gc_on         yes  \n2    store.operation_name   store.Set  \n3  store.operation_result          ok  \n4    store.value_has_type      string  ",
      "text/html": "<div>\n<style scoped>\n    .dataframe tbody tr th:only-of-type {\n        vertical-align: middle;\n    }\n\n    .dataframe tbody tr th {\n        vertical-align: top;\n    }\n\n    .dataframe thead th {\n        text-align: right;\n    }\n</style>\n<table border=\"1\" class=\"dataframe\">\n  <thead>\n    <tr style=\"text-align: right;\">\n      <th></th>\n      <th>namespace</th>\n      <th>key</th>\n      <th>value</th>\n      <th>label_key</th>\n      <th>label_value</th>\n    </tr>\n  </thead>\n  <tbody>\n    <tr>\n      <th>0</th>\n      <td>default</td>\n      <td>experiment.name</td>\n      <td>TestCreateData</td>\n      <td>runtime.runner</td>\n      <td>go-test</td>\n    </tr>\n    <tr>\n      <th>1</th>\n      <td>default</td>\n      <td>experiment.name</td>\n      <td>TestCreateData</td>\n      <td>runtime.gc_on</td>\n      <td>yes</td>\n    </tr>\n    <tr>\n      <th>2</th>\n      <td>default</td>\n      <td>metric.execution_time_milliseconds</td>\n      <td>9</td>\n      <td>store.operation_name</td>\n      <td>store.Set</td>\n    </tr>\n    <tr>\n      <th>3</th>\n      <td>default</td>\n      <td>metric.execution_time_milliseconds</td>\n      <td>9</td>\n      <td>store.operation_result</td>\n      <td>ok</td>\n    </tr>\n    <tr>\n      <th>4</th>\n      <td>default</td>\n      <td>metric.execution_time_milliseconds</td>\n      <td>9</td>\n      <td>store.value_has_type</td>\n      <td>string</td>\n    </tr>\n  </tbody>\n</table>\n</div>"
     },
     "execution_count": 34,
     "metadata": {},
     "output_type": "execute_result"
    }
   ],
   "source": [
    "data.head(5)"
   ],
   "metadata": {
    "collapsed": false,
    "pycharm": {
     "name": "#%%\n"
    }
   }
  },
  {
   "cell_type": "code",
   "execution_count": 35,
   "outputs": [
    {
     "name": "stderr",
     "output_type": "stream",
     "text": [
      "/var/folders/8c/k10wstl911792gpwxjgbs64h0000gn/T/ipykernel_7155/3782277188.py:2: SettingWithCopyWarning: \n",
      "A value is trying to be set on a copy of a slice from a DataFrame.\n",
      "Try using .loc[row_indexer,col_indexer] = value instead\n",
      "\n",
      "See the caveats in the documentation: https://pandas.pydata.org/pandas-docs/stable/user_guide/indexing.html#returning-a-view-versus-a-copy\n",
      "  data2[\"value\"] = pd.to_numeric(data2[\"value\"])\n"
     ]
    },
    {
     "data": {
      "text/plain": "   namespace                                 key  value             label_key  \\\n4    default  metric.execution_time_milliseconds      9  store.value_has_type   \n6    default  metric.execution_time_milliseconds      7  store.value_has_type   \n13   default  metric.execution_time_milliseconds      8  store.value_has_type   \n\n   label_value  \n4       string  \n6      float32  \n13     float32  ",
      "text/html": "<div>\n<style scoped>\n    .dataframe tbody tr th:only-of-type {\n        vertical-align: middle;\n    }\n\n    .dataframe tbody tr th {\n        vertical-align: top;\n    }\n\n    .dataframe thead th {\n        text-align: right;\n    }\n</style>\n<table border=\"1\" class=\"dataframe\">\n  <thead>\n    <tr style=\"text-align: right;\">\n      <th></th>\n      <th>namespace</th>\n      <th>key</th>\n      <th>value</th>\n      <th>label_key</th>\n      <th>label_value</th>\n    </tr>\n  </thead>\n  <tbody>\n    <tr>\n      <th>4</th>\n      <td>default</td>\n      <td>metric.execution_time_milliseconds</td>\n      <td>9</td>\n      <td>store.value_has_type</td>\n      <td>string</td>\n    </tr>\n    <tr>\n      <th>6</th>\n      <td>default</td>\n      <td>metric.execution_time_milliseconds</td>\n      <td>7</td>\n      <td>store.value_has_type</td>\n      <td>float32</td>\n    </tr>\n    <tr>\n      <th>13</th>\n      <td>default</td>\n      <td>metric.execution_time_milliseconds</td>\n      <td>8</td>\n      <td>store.value_has_type</td>\n      <td>float32</td>\n    </tr>\n  </tbody>\n</table>\n</div>"
     },
     "execution_count": 35,
     "metadata": {},
     "output_type": "execute_result"
    }
   ],
   "source": [
    "data2 = data[data[\"label_key\"] == \"store.value_has_type\"]\n",
    "data2[\"value\"] = pd.to_numeric(data2[\"value\"])\n",
    "data2.head(3)"
   ],
   "metadata": {
    "collapsed": false,
    "pycharm": {
     "name": "#%%\n"
    }
   }
  },
  {
   "cell_type": "code",
   "execution_count": 36,
   "outputs": [],
   "source": [
    "# for name, group in  data2.groupby(\"label_value\"):\n",
    "#     print(name)\n",
    "#     group.hist()"
   ],
   "metadata": {
    "collapsed": false,
    "pycharm": {
     "name": "#%%\n"
    }
   }
  },
  {
   "cell_type": "markdown",
   "source": [
    "## How long it takes to store.Set?"
   ],
   "metadata": {
    "collapsed": false,
    "pycharm": {
     "name": "#%% md\n"
    }
   }
  },
  {
   "cell_type": "code",
   "execution_count": 37,
   "outputs": [
    {
     "data": {
      "text/plain": "array([[<AxesSubplot:title={'center':'value'}>]], dtype=object)"
     },
     "execution_count": 37,
     "metadata": {},
     "output_type": "execute_result"
    },
    {
     "data": {
      "text/plain": "<Figure size 432x288 with 1 Axes>",
      "image/png": "[encoded data removed]"
     },
     "metadata": {
      "needs_background": "light"
     },
     "output_type": "display_data"
    }
   ],
   "source": [
    "data2.hist(column=\"value\")"
   ],
   "metadata": {
    "collapsed": false,
    "pycharm": {
     "name": "#%%\n"
    }
   }
  },
  {
   "cell_type": "markdown",
   "source": [
    "## How long it takes to store.Set per type?"
   ],
   "metadata": {
    "collapsed": false
   }
  },
  {
   "cell_type": "code",
   "execution_count": 38,
   "outputs": [
    {
     "data": {
      "text/plain": "array([[<AxesSubplot:title={'center':'float32'}>,\n        <AxesSubplot:title={'center':'float64'}>,\n        <AxesSubplot:title={'center':'int'}>,\n        <AxesSubplot:title={'center':'int16'}>],\n       [<AxesSubplot:title={'center':'int32'}>,\n        <AxesSubplot:title={'center':'int64'}>,\n        <AxesSubplot:title={'center':'int8'}>,\n        <AxesSubplot:title={'center':'string'}>],\n       [<AxesSubplot:title={'center':'uint'}>,\n        <AxesSubplot:title={'center':'uint16'}>,\n        <AxesSubplot:title={'center':'uint32'}>,\n        <AxesSubplot:title={'center':'uint64'}>],\n       [<AxesSubplot:title={'center':'uint8'}>, <AxesSubplot:>,\n        <AxesSubplot:>, <AxesSubplot:>]], dtype=object)"
     },
     "execution_count": 38,
     "metadata": {},
     "output_type": "execute_result"
    },
    {
     "data": {
      "text/plain": "<Figure size 432x288 with 16 Axes>",
      "image/png": "[encoded data removed]"
     },
     "metadata": {
      "needs_background": "light"
     },
     "output_type": "display_data"
    }
   ],
   "source": [
    "data2.hist(column=\"value\", by=\"label_value\")\n",
    "\n",
    "## Which variant is better?\n",
    "\n"
   ],
   "metadata": {
    "collapsed": false,
    "pycharm": {
     "name": "#%%\n"
    }
   }
  }
 ],
 "metadata": {
  "kernelspec": {
   "display_name": "Python 3",
   "language": "python",
   "name": "python3"
  },
  "language_info": {
   "codemirror_mode": {
    "name": "ipython",
    "version": 2
   },
   "file_extension": ".py",
   "mimetype": "text/x-python",
   "name": "python",
   "nbconvert_exporter": "python",
   "pygments_lexer": "ipython2",
   "version": "2.7.6"
  }
 },
 "nbformat": 4,
 "nbformat_minor": 0
}